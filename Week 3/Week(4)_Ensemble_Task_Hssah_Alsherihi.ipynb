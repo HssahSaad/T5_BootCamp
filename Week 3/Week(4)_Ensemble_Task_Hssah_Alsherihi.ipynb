{
  "cells": [
    {
      "cell_type": "markdown",
      "metadata": {
        "id": "view-in-github",
        "colab_type": "text"
      },
      "source": [
        "<a href=\"https://colab.research.google.com/github/HssahSaad/T5_Week4/blob/main/Week(4)_Ensemble_Task_Hssah_Alsherihi.ipynb\" target=\"_parent\"><img src=\"https://colab.research.google.com/assets/colab-badge.svg\" alt=\"Open In Colab\"/></a>"
      ]
    },
    {
      "cell_type": "markdown",
      "id": "9ae4cc02",
      "metadata": {
        "id": "9ae4cc02"
      },
      "source": [
        "# Ensemble Methods Notebook\n",
        "Welcome to the weekly project on Ensemble Methods. You will be working with a dataset of traffic jams.\n",
        "\n",
        "## Dataset\n",
        "The dataset that will be used in this task is `Traffic_Jam.csv`\n",
        "\n",
        "## Instructions\n",
        "- Follow the steps outlined below.\n",
        "- Write your code in the empty code cells.\n",
        "- Comment on your code to explain your reasoning.\n",
        "\n",
        "## Dataset Overview\n",
        "This dataset contains traffic data including various counts of vehicle types across different times and days. Below are samples of these columns:\n",
        "\n",
        "* `Time`: The timestamp of the traffic count (in intervals).\n",
        "* `Date`: The day of the month the data was recorded.\n",
        "* `Day of the Week`: The day of the week for the recorded data.\n",
        "* `CarCount`: The number of cars counted during the time interval.\n",
        "* `BikeCount`: The number of bikes counted during the time interval.\n",
        "* `BusCount`: The number of buses counted during the time interval.\n",
        "* `TruckCount`: The number of trucks counted during the time interval.\n",
        "* `Total`: Total vehicles counted during the time interval.\n",
        "* `Traffic Situation`: Qualitative assessment of the traffic (e.g., normal, congested).\n",
        "\n",
        "## Goal\n",
        "The primary goal of this exam is to develop a predictive model capable of determining the `Traffic Situation` based on your choice of features provided in the dataset. Students are expected to apply ensemble methods to build and evaluate their models."
      ]
    },
    {
      "cell_type": "markdown",
      "id": "0243f5f9",
      "metadata": {
        "id": "0243f5f9"
      },
      "source": [
        "# Import Libraries"
      ]
    },
    {
      "cell_type": "code",
      "execution_count": 1,
      "id": "cd906704",
      "metadata": {
        "id": "cd906704"
      },
      "outputs": [],
      "source": [
        "import pandas as pd\n",
        "import numpy as np\n",
        "import seaborn as sns\n",
        "import matplotlib.pyplot as plt"
      ]
    },
    {
      "cell_type": "markdown",
      "id": "3bc0f20e",
      "metadata": {
        "id": "3bc0f20e"
      },
      "source": [
        "# Load the dataset\n"
      ]
    },
    {
      "cell_type": "code",
      "execution_count": 2,
      "id": "47ecb305",
      "metadata": {
        "id": "47ecb305",
        "colab": {
          "base_uri": "https://localhost:8080/",
          "height": 206
        },
        "outputId": "2aab7790-9b55-4fbd-8a6c-3bb2b1e76266"
      },
      "outputs": [
        {
          "output_type": "execute_result",
          "data": {
            "text/plain": [
              "          Time  Date Day of the week  CarCount  BikeCount  BusCount  \\\n",
              "0  12:00:00 AM    10         Tuesday        13          2         2   \n",
              "1  12:15:00 AM    10         Tuesday        14          1         1   \n",
              "2  12:30:00 AM    10         Tuesday        10          2         2   \n",
              "3  12:45:00 AM    10         Tuesday        10          2         2   \n",
              "4   1:00:00 AM    10         Tuesday        11          2         1   \n",
              "\n",
              "   TruckCount  Total Traffic Situation  \n",
              "0          24     41            normal  \n",
              "1          36     52            normal  \n",
              "2          32     46            normal  \n",
              "3          36     50            normal  \n",
              "4          34     48            normal  "
            ],
            "text/html": [
              "\n",
              "  <div id=\"df-4fa9135c-b578-4a71-a6ad-e26658b645c1\" class=\"colab-df-container\">\n",
              "    <div>\n",
              "<style scoped>\n",
              "    .dataframe tbody tr th:only-of-type {\n",
              "        vertical-align: middle;\n",
              "    }\n",
              "\n",
              "    .dataframe tbody tr th {\n",
              "        vertical-align: top;\n",
              "    }\n",
              "\n",
              "    .dataframe thead th {\n",
              "        text-align: right;\n",
              "    }\n",
              "</style>\n",
              "<table border=\"1\" class=\"dataframe\">\n",
              "  <thead>\n",
              "    <tr style=\"text-align: right;\">\n",
              "      <th></th>\n",
              "      <th>Time</th>\n",
              "      <th>Date</th>\n",
              "      <th>Day of the week</th>\n",
              "      <th>CarCount</th>\n",
              "      <th>BikeCount</th>\n",
              "      <th>BusCount</th>\n",
              "      <th>TruckCount</th>\n",
              "      <th>Total</th>\n",
              "      <th>Traffic Situation</th>\n",
              "    </tr>\n",
              "  </thead>\n",
              "  <tbody>\n",
              "    <tr>\n",
              "      <th>0</th>\n",
              "      <td>12:00:00 AM</td>\n",
              "      <td>10</td>\n",
              "      <td>Tuesday</td>\n",
              "      <td>13</td>\n",
              "      <td>2</td>\n",
              "      <td>2</td>\n",
              "      <td>24</td>\n",
              "      <td>41</td>\n",
              "      <td>normal</td>\n",
              "    </tr>\n",
              "    <tr>\n",
              "      <th>1</th>\n",
              "      <td>12:15:00 AM</td>\n",
              "      <td>10</td>\n",
              "      <td>Tuesday</td>\n",
              "      <td>14</td>\n",
              "      <td>1</td>\n",
              "      <td>1</td>\n",
              "      <td>36</td>\n",
              "      <td>52</td>\n",
              "      <td>normal</td>\n",
              "    </tr>\n",
              "    <tr>\n",
              "      <th>2</th>\n",
              "      <td>12:30:00 AM</td>\n",
              "      <td>10</td>\n",
              "      <td>Tuesday</td>\n",
              "      <td>10</td>\n",
              "      <td>2</td>\n",
              "      <td>2</td>\n",
              "      <td>32</td>\n",
              "      <td>46</td>\n",
              "      <td>normal</td>\n",
              "    </tr>\n",
              "    <tr>\n",
              "      <th>3</th>\n",
              "      <td>12:45:00 AM</td>\n",
              "      <td>10</td>\n",
              "      <td>Tuesday</td>\n",
              "      <td>10</td>\n",
              "      <td>2</td>\n",
              "      <td>2</td>\n",
              "      <td>36</td>\n",
              "      <td>50</td>\n",
              "      <td>normal</td>\n",
              "    </tr>\n",
              "    <tr>\n",
              "      <th>4</th>\n",
              "      <td>1:00:00 AM</td>\n",
              "      <td>10</td>\n",
              "      <td>Tuesday</td>\n",
              "      <td>11</td>\n",
              "      <td>2</td>\n",
              "      <td>1</td>\n",
              "      <td>34</td>\n",
              "      <td>48</td>\n",
              "      <td>normal</td>\n",
              "    </tr>\n",
              "  </tbody>\n",
              "</table>\n",
              "</div>\n",
              "    <div class=\"colab-df-buttons\">\n",
              "\n",
              "  <div class=\"colab-df-container\">\n",
              "    <button class=\"colab-df-convert\" onclick=\"convertToInteractive('df-4fa9135c-b578-4a71-a6ad-e26658b645c1')\"\n",
              "            title=\"Convert this dataframe to an interactive table.\"\n",
              "            style=\"display:none;\">\n",
              "\n",
              "  <svg xmlns=\"http://www.w3.org/2000/svg\" height=\"24px\" viewBox=\"0 -960 960 960\">\n",
              "    <path d=\"M120-120v-720h720v720H120Zm60-500h600v-160H180v160Zm220 220h160v-160H400v160Zm0 220h160v-160H400v160ZM180-400h160v-160H180v160Zm440 0h160v-160H620v160ZM180-180h160v-160H180v160Zm440 0h160v-160H620v160Z\"/>\n",
              "  </svg>\n",
              "    </button>\n",
              "\n",
              "  <style>\n",
              "    .colab-df-container {\n",
              "      display:flex;\n",
              "      gap: 12px;\n",
              "    }\n",
              "\n",
              "    .colab-df-convert {\n",
              "      background-color: #E8F0FE;\n",
              "      border: none;\n",
              "      border-radius: 50%;\n",
              "      cursor: pointer;\n",
              "      display: none;\n",
              "      fill: #1967D2;\n",
              "      height: 32px;\n",
              "      padding: 0 0 0 0;\n",
              "      width: 32px;\n",
              "    }\n",
              "\n",
              "    .colab-df-convert:hover {\n",
              "      background-color: #E2EBFA;\n",
              "      box-shadow: 0px 1px 2px rgba(60, 64, 67, 0.3), 0px 1px 3px 1px rgba(60, 64, 67, 0.15);\n",
              "      fill: #174EA6;\n",
              "    }\n",
              "\n",
              "    .colab-df-buttons div {\n",
              "      margin-bottom: 4px;\n",
              "    }\n",
              "\n",
              "    [theme=dark] .colab-df-convert {\n",
              "      background-color: #3B4455;\n",
              "      fill: #D2E3FC;\n",
              "    }\n",
              "\n",
              "    [theme=dark] .colab-df-convert:hover {\n",
              "      background-color: #434B5C;\n",
              "      box-shadow: 0px 1px 3px 1px rgba(0, 0, 0, 0.15);\n",
              "      filter: drop-shadow(0px 1px 2px rgba(0, 0, 0, 0.3));\n",
              "      fill: #FFFFFF;\n",
              "    }\n",
              "  </style>\n",
              "\n",
              "    <script>\n",
              "      const buttonEl =\n",
              "        document.querySelector('#df-4fa9135c-b578-4a71-a6ad-e26658b645c1 button.colab-df-convert');\n",
              "      buttonEl.style.display =\n",
              "        google.colab.kernel.accessAllowed ? 'block' : 'none';\n",
              "\n",
              "      async function convertToInteractive(key) {\n",
              "        const element = document.querySelector('#df-4fa9135c-b578-4a71-a6ad-e26658b645c1');\n",
              "        const dataTable =\n",
              "          await google.colab.kernel.invokeFunction('convertToInteractive',\n",
              "                                                    [key], {});\n",
              "        if (!dataTable) return;\n",
              "\n",
              "        const docLinkHtml = 'Like what you see? Visit the ' +\n",
              "          '<a target=\"_blank\" href=https://colab.research.google.com/notebooks/data_table.ipynb>data table notebook</a>'\n",
              "          + ' to learn more about interactive tables.';\n",
              "        element.innerHTML = '';\n",
              "        dataTable['output_type'] = 'display_data';\n",
              "        await google.colab.output.renderOutput(dataTable, element);\n",
              "        const docLink = document.createElement('div');\n",
              "        docLink.innerHTML = docLinkHtml;\n",
              "        element.appendChild(docLink);\n",
              "      }\n",
              "    </script>\n",
              "  </div>\n",
              "\n",
              "\n",
              "<div id=\"df-c700bcdb-524c-463b-9bf6-93a1c6a6ac4b\">\n",
              "  <button class=\"colab-df-quickchart\" onclick=\"quickchart('df-c700bcdb-524c-463b-9bf6-93a1c6a6ac4b')\"\n",
              "            title=\"Suggest charts\"\n",
              "            style=\"display:none;\">\n",
              "\n",
              "<svg xmlns=\"http://www.w3.org/2000/svg\" height=\"24px\"viewBox=\"0 0 24 24\"\n",
              "     width=\"24px\">\n",
              "    <g>\n",
              "        <path d=\"M19 3H5c-1.1 0-2 .9-2 2v14c0 1.1.9 2 2 2h14c1.1 0 2-.9 2-2V5c0-1.1-.9-2-2-2zM9 17H7v-7h2v7zm4 0h-2V7h2v10zm4 0h-2v-4h2v4z\"/>\n",
              "    </g>\n",
              "</svg>\n",
              "  </button>\n",
              "\n",
              "<style>\n",
              "  .colab-df-quickchart {\n",
              "      --bg-color: #E8F0FE;\n",
              "      --fill-color: #1967D2;\n",
              "      --hover-bg-color: #E2EBFA;\n",
              "      --hover-fill-color: #174EA6;\n",
              "      --disabled-fill-color: #AAA;\n",
              "      --disabled-bg-color: #DDD;\n",
              "  }\n",
              "\n",
              "  [theme=dark] .colab-df-quickchart {\n",
              "      --bg-color: #3B4455;\n",
              "      --fill-color: #D2E3FC;\n",
              "      --hover-bg-color: #434B5C;\n",
              "      --hover-fill-color: #FFFFFF;\n",
              "      --disabled-bg-color: #3B4455;\n",
              "      --disabled-fill-color: #666;\n",
              "  }\n",
              "\n",
              "  .colab-df-quickchart {\n",
              "    background-color: var(--bg-color);\n",
              "    border: none;\n",
              "    border-radius: 50%;\n",
              "    cursor: pointer;\n",
              "    display: none;\n",
              "    fill: var(--fill-color);\n",
              "    height: 32px;\n",
              "    padding: 0;\n",
              "    width: 32px;\n",
              "  }\n",
              "\n",
              "  .colab-df-quickchart:hover {\n",
              "    background-color: var(--hover-bg-color);\n",
              "    box-shadow: 0 1px 2px rgba(60, 64, 67, 0.3), 0 1px 3px 1px rgba(60, 64, 67, 0.15);\n",
              "    fill: var(--button-hover-fill-color);\n",
              "  }\n",
              "\n",
              "  .colab-df-quickchart-complete:disabled,\n",
              "  .colab-df-quickchart-complete:disabled:hover {\n",
              "    background-color: var(--disabled-bg-color);\n",
              "    fill: var(--disabled-fill-color);\n",
              "    box-shadow: none;\n",
              "  }\n",
              "\n",
              "  .colab-df-spinner {\n",
              "    border: 2px solid var(--fill-color);\n",
              "    border-color: transparent;\n",
              "    border-bottom-color: var(--fill-color);\n",
              "    animation:\n",
              "      spin 1s steps(1) infinite;\n",
              "  }\n",
              "\n",
              "  @keyframes spin {\n",
              "    0% {\n",
              "      border-color: transparent;\n",
              "      border-bottom-color: var(--fill-color);\n",
              "      border-left-color: var(--fill-color);\n",
              "    }\n",
              "    20% {\n",
              "      border-color: transparent;\n",
              "      border-left-color: var(--fill-color);\n",
              "      border-top-color: var(--fill-color);\n",
              "    }\n",
              "    30% {\n",
              "      border-color: transparent;\n",
              "      border-left-color: var(--fill-color);\n",
              "      border-top-color: var(--fill-color);\n",
              "      border-right-color: var(--fill-color);\n",
              "    }\n",
              "    40% {\n",
              "      border-color: transparent;\n",
              "      border-right-color: var(--fill-color);\n",
              "      border-top-color: var(--fill-color);\n",
              "    }\n",
              "    60% {\n",
              "      border-color: transparent;\n",
              "      border-right-color: var(--fill-color);\n",
              "    }\n",
              "    80% {\n",
              "      border-color: transparent;\n",
              "      border-right-color: var(--fill-color);\n",
              "      border-bottom-color: var(--fill-color);\n",
              "    }\n",
              "    90% {\n",
              "      border-color: transparent;\n",
              "      border-bottom-color: var(--fill-color);\n",
              "    }\n",
              "  }\n",
              "</style>\n",
              "\n",
              "  <script>\n",
              "    async function quickchart(key) {\n",
              "      const quickchartButtonEl =\n",
              "        document.querySelector('#' + key + ' button');\n",
              "      quickchartButtonEl.disabled = true;  // To prevent multiple clicks.\n",
              "      quickchartButtonEl.classList.add('colab-df-spinner');\n",
              "      try {\n",
              "        const charts = await google.colab.kernel.invokeFunction(\n",
              "            'suggestCharts', [key], {});\n",
              "      } catch (error) {\n",
              "        console.error('Error during call to suggestCharts:', error);\n",
              "      }\n",
              "      quickchartButtonEl.classList.remove('colab-df-spinner');\n",
              "      quickchartButtonEl.classList.add('colab-df-quickchart-complete');\n",
              "    }\n",
              "    (() => {\n",
              "      let quickchartButtonEl =\n",
              "        document.querySelector('#df-c700bcdb-524c-463b-9bf6-93a1c6a6ac4b button');\n",
              "      quickchartButtonEl.style.display =\n",
              "        google.colab.kernel.accessAllowed ? 'block' : 'none';\n",
              "    })();\n",
              "  </script>\n",
              "</div>\n",
              "\n",
              "    </div>\n",
              "  </div>\n"
            ],
            "application/vnd.google.colaboratory.intrinsic+json": {
              "type": "dataframe",
              "variable_name": "df",
              "summary": "{\n  \"name\": \"df\",\n  \"rows\": 6324,\n  \"fields\": [\n    {\n      \"column\": \"Time\",\n      \"properties\": {\n        \"dtype\": \"object\",\n        \"num_unique_values\": 96,\n        \"samples\": [\n          \"8:00:00 PM\",\n          \"7:15:00 PM\",\n          \"6:15:00 PM\"\n        ],\n        \"semantic_type\": \"\",\n        \"description\": \"\"\n      }\n    },\n    {\n      \"column\": \"Date\",\n      \"properties\": {\n        \"dtype\": \"number\",\n        \"std\": 8,\n        \"min\": 1,\n        \"max\": 31,\n        \"num_unique_values\": 31,\n        \"samples\": [\n          6,\n          25,\n          2\n        ],\n        \"semantic_type\": \"\",\n        \"description\": \"\"\n      }\n    },\n    {\n      \"column\": \"Day of the week\",\n      \"properties\": {\n        \"dtype\": \"category\",\n        \"num_unique_values\": 7,\n        \"samples\": [\n          \"Tuesday\",\n          \"Wednesday\",\n          \"Sunday\"\n        ],\n        \"semantic_type\": \"\",\n        \"description\": \"\"\n      }\n    },\n    {\n      \"column\": \"CarCount\",\n      \"properties\": {\n        \"dtype\": \"number\",\n        \"std\": 44,\n        \"min\": 5,\n        \"max\": 180,\n        \"num_unique_values\": 173,\n        \"samples\": [\n          166,\n          63,\n          146\n        ],\n        \"semantic_type\": \"\",\n        \"description\": \"\"\n      }\n    },\n    {\n      \"column\": \"BikeCount\",\n      \"properties\": {\n        \"dtype\": \"number\",\n        \"std\": 11,\n        \"min\": 0,\n        \"max\": 70,\n        \"num_unique_values\": 71,\n        \"samples\": [\n          29,\n          2,\n          48\n        ],\n        \"semantic_type\": \"\",\n        \"description\": \"\"\n      }\n    },\n    {\n      \"column\": \"BusCount\",\n      \"properties\": {\n        \"dtype\": \"number\",\n        \"std\": 12,\n        \"min\": 0,\n        \"max\": 50,\n        \"num_unique_values\": 51,\n        \"samples\": [\n          46,\n          36,\n          50\n        ],\n        \"semantic_type\": \"\",\n        \"description\": \"\"\n      }\n    },\n    {\n      \"column\": \"TruckCount\",\n      \"properties\": {\n        \"dtype\": \"number\",\n        \"std\": 10,\n        \"min\": 0,\n        \"max\": 60,\n        \"num_unique_values\": 59,\n        \"samples\": [\n          24,\n          27,\n          7\n        ],\n        \"semantic_type\": \"\",\n        \"description\": \"\"\n      }\n    },\n    {\n      \"column\": \"Total\",\n      \"properties\": {\n        \"dtype\": \"number\",\n        \"std\": 55,\n        \"min\": 21,\n        \"max\": 279,\n        \"num_unique_values\": 239,\n        \"samples\": [\n          166,\n          45,\n          79\n        ],\n        \"semantic_type\": \"\",\n        \"description\": \"\"\n      }\n    },\n    {\n      \"column\": \"Traffic Situation\",\n      \"properties\": {\n        \"dtype\": \"category\",\n        \"num_unique_values\": 4,\n        \"samples\": [\n          \"low\",\n          \"high\",\n          \"normal\"\n        ],\n        \"semantic_type\": \"\",\n        \"description\": \"\"\n      }\n    }\n  ]\n}"
            }
          },
          "metadata": {},
          "execution_count": 2
        }
      ],
      "source": [
        "df = pd.read_csv('Traffic_Jams.csv')\n",
        "df.head()"
      ]
    },
    {
      "cell_type": "markdown",
      "id": "41f23906",
      "metadata": {
        "id": "41f23906"
      },
      "source": [
        "# Exploratory Data Analysis (EDA)\n",
        "\n",
        "Below are some steps and visualizations to perform EDA on the dataset:\n",
        "\n",
        "1. **Summary Statistics**: Obtain summary statistics for the dataset to understand the central tendencies and dispersion of numerical features.describe()\n",
        "\n",
        "2. **Distribution of the Target Variable**: Analyze the distribution of the target variable `Traffic Situation` to understand the class balance.\n",
        "\n",
        "3. **Correlation Analysis**: Analyze correlations between features."
      ]
    },
    {
      "cell_type": "markdown",
      "source": [
        "### Summary Statistics"
      ],
      "metadata": {
        "id": "NzCZYtawyUHy"
      },
      "id": "NzCZYtawyUHy"
    },
    {
      "cell_type": "code",
      "execution_count": 3,
      "id": "140e99fb",
      "metadata": {
        "id": "140e99fb",
        "colab": {
          "base_uri": "https://localhost:8080/",
          "height": 300
        },
        "outputId": "8b2997b8-c0d4-4488-f831-5c3f3dec304e"
      },
      "outputs": [
        {
          "output_type": "execute_result",
          "data": {
            "text/plain": [
              "              Date     CarCount    BikeCount     BusCount   TruckCount  \\\n",
              "count  6324.000000  6324.000000  6324.000000  6324.000000  6324.000000   \n",
              "mean     16.043327    64.355629    12.013283    12.557875    18.658128   \n",
              "std       8.956907    44.307088    11.363955    12.319831    10.724822   \n",
              "min       1.000000     5.000000     0.000000     0.000000     0.000000   \n",
              "25%       8.000000    18.000000     3.000000     1.000000    10.000000   \n",
              "50%      16.000000    61.000000     9.000000    10.000000    18.000000   \n",
              "75%      24.000000   101.250000    19.000000    20.000000    27.000000   \n",
              "max      31.000000   180.000000    70.000000    50.000000    60.000000   \n",
              "\n",
              "             Total  \n",
              "count  6324.000000  \n",
              "mean    107.584915  \n",
              "std      55.850784  \n",
              "min      21.000000  \n",
              "25%      53.000000  \n",
              "50%     103.000000  \n",
              "75%     151.000000  \n",
              "max     279.000000  "
            ],
            "text/html": [
              "\n",
              "  <div id=\"df-bcd8293f-1cbe-48fa-9c95-0da9c774d0db\" class=\"colab-df-container\">\n",
              "    <div>\n",
              "<style scoped>\n",
              "    .dataframe tbody tr th:only-of-type {\n",
              "        vertical-align: middle;\n",
              "    }\n",
              "\n",
              "    .dataframe tbody tr th {\n",
              "        vertical-align: top;\n",
              "    }\n",
              "\n",
              "    .dataframe thead th {\n",
              "        text-align: right;\n",
              "    }\n",
              "</style>\n",
              "<table border=\"1\" class=\"dataframe\">\n",
              "  <thead>\n",
              "    <tr style=\"text-align: right;\">\n",
              "      <th></th>\n",
              "      <th>Date</th>\n",
              "      <th>CarCount</th>\n",
              "      <th>BikeCount</th>\n",
              "      <th>BusCount</th>\n",
              "      <th>TruckCount</th>\n",
              "      <th>Total</th>\n",
              "    </tr>\n",
              "  </thead>\n",
              "  <tbody>\n",
              "    <tr>\n",
              "      <th>count</th>\n",
              "      <td>6324.000000</td>\n",
              "      <td>6324.000000</td>\n",
              "      <td>6324.000000</td>\n",
              "      <td>6324.000000</td>\n",
              "      <td>6324.000000</td>\n",
              "      <td>6324.000000</td>\n",
              "    </tr>\n",
              "    <tr>\n",
              "      <th>mean</th>\n",
              "      <td>16.043327</td>\n",
              "      <td>64.355629</td>\n",
              "      <td>12.013283</td>\n",
              "      <td>12.557875</td>\n",
              "      <td>18.658128</td>\n",
              "      <td>107.584915</td>\n",
              "    </tr>\n",
              "    <tr>\n",
              "      <th>std</th>\n",
              "      <td>8.956907</td>\n",
              "      <td>44.307088</td>\n",
              "      <td>11.363955</td>\n",
              "      <td>12.319831</td>\n",
              "      <td>10.724822</td>\n",
              "      <td>55.850784</td>\n",
              "    </tr>\n",
              "    <tr>\n",
              "      <th>min</th>\n",
              "      <td>1.000000</td>\n",
              "      <td>5.000000</td>\n",
              "      <td>0.000000</td>\n",
              "      <td>0.000000</td>\n",
              "      <td>0.000000</td>\n",
              "      <td>21.000000</td>\n",
              "    </tr>\n",
              "    <tr>\n",
              "      <th>25%</th>\n",
              "      <td>8.000000</td>\n",
              "      <td>18.000000</td>\n",
              "      <td>3.000000</td>\n",
              "      <td>1.000000</td>\n",
              "      <td>10.000000</td>\n",
              "      <td>53.000000</td>\n",
              "    </tr>\n",
              "    <tr>\n",
              "      <th>50%</th>\n",
              "      <td>16.000000</td>\n",
              "      <td>61.000000</td>\n",
              "      <td>9.000000</td>\n",
              "      <td>10.000000</td>\n",
              "      <td>18.000000</td>\n",
              "      <td>103.000000</td>\n",
              "    </tr>\n",
              "    <tr>\n",
              "      <th>75%</th>\n",
              "      <td>24.000000</td>\n",
              "      <td>101.250000</td>\n",
              "      <td>19.000000</td>\n",
              "      <td>20.000000</td>\n",
              "      <td>27.000000</td>\n",
              "      <td>151.000000</td>\n",
              "    </tr>\n",
              "    <tr>\n",
              "      <th>max</th>\n",
              "      <td>31.000000</td>\n",
              "      <td>180.000000</td>\n",
              "      <td>70.000000</td>\n",
              "      <td>50.000000</td>\n",
              "      <td>60.000000</td>\n",
              "      <td>279.000000</td>\n",
              "    </tr>\n",
              "  </tbody>\n",
              "</table>\n",
              "</div>\n",
              "    <div class=\"colab-df-buttons\">\n",
              "\n",
              "  <div class=\"colab-df-container\">\n",
              "    <button class=\"colab-df-convert\" onclick=\"convertToInteractive('df-bcd8293f-1cbe-48fa-9c95-0da9c774d0db')\"\n",
              "            title=\"Convert this dataframe to an interactive table.\"\n",
              "            style=\"display:none;\">\n",
              "\n",
              "  <svg xmlns=\"http://www.w3.org/2000/svg\" height=\"24px\" viewBox=\"0 -960 960 960\">\n",
              "    <path d=\"M120-120v-720h720v720H120Zm60-500h600v-160H180v160Zm220 220h160v-160H400v160Zm0 220h160v-160H400v160ZM180-400h160v-160H180v160Zm440 0h160v-160H620v160ZM180-180h160v-160H180v160Zm440 0h160v-160H620v160Z\"/>\n",
              "  </svg>\n",
              "    </button>\n",
              "\n",
              "  <style>\n",
              "    .colab-df-container {\n",
              "      display:flex;\n",
              "      gap: 12px;\n",
              "    }\n",
              "\n",
              "    .colab-df-convert {\n",
              "      background-color: #E8F0FE;\n",
              "      border: none;\n",
              "      border-radius: 50%;\n",
              "      cursor: pointer;\n",
              "      display: none;\n",
              "      fill: #1967D2;\n",
              "      height: 32px;\n",
              "      padding: 0 0 0 0;\n",
              "      width: 32px;\n",
              "    }\n",
              "\n",
              "    .colab-df-convert:hover {\n",
              "      background-color: #E2EBFA;\n",
              "      box-shadow: 0px 1px 2px rgba(60, 64, 67, 0.3), 0px 1px 3px 1px rgba(60, 64, 67, 0.15);\n",
              "      fill: #174EA6;\n",
              "    }\n",
              "\n",
              "    .colab-df-buttons div {\n",
              "      margin-bottom: 4px;\n",
              "    }\n",
              "\n",
              "    [theme=dark] .colab-df-convert {\n",
              "      background-color: #3B4455;\n",
              "      fill: #D2E3FC;\n",
              "    }\n",
              "\n",
              "    [theme=dark] .colab-df-convert:hover {\n",
              "      background-color: #434B5C;\n",
              "      box-shadow: 0px 1px 3px 1px rgba(0, 0, 0, 0.15);\n",
              "      filter: drop-shadow(0px 1px 2px rgba(0, 0, 0, 0.3));\n",
              "      fill: #FFFFFF;\n",
              "    }\n",
              "  </style>\n",
              "\n",
              "    <script>\n",
              "      const buttonEl =\n",
              "        document.querySelector('#df-bcd8293f-1cbe-48fa-9c95-0da9c774d0db button.colab-df-convert');\n",
              "      buttonEl.style.display =\n",
              "        google.colab.kernel.accessAllowed ? 'block' : 'none';\n",
              "\n",
              "      async function convertToInteractive(key) {\n",
              "        const element = document.querySelector('#df-bcd8293f-1cbe-48fa-9c95-0da9c774d0db');\n",
              "        const dataTable =\n",
              "          await google.colab.kernel.invokeFunction('convertToInteractive',\n",
              "                                                    [key], {});\n",
              "        if (!dataTable) return;\n",
              "\n",
              "        const docLinkHtml = 'Like what you see? Visit the ' +\n",
              "          '<a target=\"_blank\" href=https://colab.research.google.com/notebooks/data_table.ipynb>data table notebook</a>'\n",
              "          + ' to learn more about interactive tables.';\n",
              "        element.innerHTML = '';\n",
              "        dataTable['output_type'] = 'display_data';\n",
              "        await google.colab.output.renderOutput(dataTable, element);\n",
              "        const docLink = document.createElement('div');\n",
              "        docLink.innerHTML = docLinkHtml;\n",
              "        element.appendChild(docLink);\n",
              "      }\n",
              "    </script>\n",
              "  </div>\n",
              "\n",
              "\n",
              "<div id=\"df-a82846fd-319b-46f1-9216-cf9b38e28378\">\n",
              "  <button class=\"colab-df-quickchart\" onclick=\"quickchart('df-a82846fd-319b-46f1-9216-cf9b38e28378')\"\n",
              "            title=\"Suggest charts\"\n",
              "            style=\"display:none;\">\n",
              "\n",
              "<svg xmlns=\"http://www.w3.org/2000/svg\" height=\"24px\"viewBox=\"0 0 24 24\"\n",
              "     width=\"24px\">\n",
              "    <g>\n",
              "        <path d=\"M19 3H5c-1.1 0-2 .9-2 2v14c0 1.1.9 2 2 2h14c1.1 0 2-.9 2-2V5c0-1.1-.9-2-2-2zM9 17H7v-7h2v7zm4 0h-2V7h2v10zm4 0h-2v-4h2v4z\"/>\n",
              "    </g>\n",
              "</svg>\n",
              "  </button>\n",
              "\n",
              "<style>\n",
              "  .colab-df-quickchart {\n",
              "      --bg-color: #E8F0FE;\n",
              "      --fill-color: #1967D2;\n",
              "      --hover-bg-color: #E2EBFA;\n",
              "      --hover-fill-color: #174EA6;\n",
              "      --disabled-fill-color: #AAA;\n",
              "      --disabled-bg-color: #DDD;\n",
              "  }\n",
              "\n",
              "  [theme=dark] .colab-df-quickchart {\n",
              "      --bg-color: #3B4455;\n",
              "      --fill-color: #D2E3FC;\n",
              "      --hover-bg-color: #434B5C;\n",
              "      --hover-fill-color: #FFFFFF;\n",
              "      --disabled-bg-color: #3B4455;\n",
              "      --disabled-fill-color: #666;\n",
              "  }\n",
              "\n",
              "  .colab-df-quickchart {\n",
              "    background-color: var(--bg-color);\n",
              "    border: none;\n",
              "    border-radius: 50%;\n",
              "    cursor: pointer;\n",
              "    display: none;\n",
              "    fill: var(--fill-color);\n",
              "    height: 32px;\n",
              "    padding: 0;\n",
              "    width: 32px;\n",
              "  }\n",
              "\n",
              "  .colab-df-quickchart:hover {\n",
              "    background-color: var(--hover-bg-color);\n",
              "    box-shadow: 0 1px 2px rgba(60, 64, 67, 0.3), 0 1px 3px 1px rgba(60, 64, 67, 0.15);\n",
              "    fill: var(--button-hover-fill-color);\n",
              "  }\n",
              "\n",
              "  .colab-df-quickchart-complete:disabled,\n",
              "  .colab-df-quickchart-complete:disabled:hover {\n",
              "    background-color: var(--disabled-bg-color);\n",
              "    fill: var(--disabled-fill-color);\n",
              "    box-shadow: none;\n",
              "  }\n",
              "\n",
              "  .colab-df-spinner {\n",
              "    border: 2px solid var(--fill-color);\n",
              "    border-color: transparent;\n",
              "    border-bottom-color: var(--fill-color);\n",
              "    animation:\n",
              "      spin 1s steps(1) infinite;\n",
              "  }\n",
              "\n",
              "  @keyframes spin {\n",
              "    0% {\n",
              "      border-color: transparent;\n",
              "      border-bottom-color: var(--fill-color);\n",
              "      border-left-color: var(--fill-color);\n",
              "    }\n",
              "    20% {\n",
              "      border-color: transparent;\n",
              "      border-left-color: var(--fill-color);\n",
              "      border-top-color: var(--fill-color);\n",
              "    }\n",
              "    30% {\n",
              "      border-color: transparent;\n",
              "      border-left-color: var(--fill-color);\n",
              "      border-top-color: var(--fill-color);\n",
              "      border-right-color: var(--fill-color);\n",
              "    }\n",
              "    40% {\n",
              "      border-color: transparent;\n",
              "      border-right-color: var(--fill-color);\n",
              "      border-top-color: var(--fill-color);\n",
              "    }\n",
              "    60% {\n",
              "      border-color: transparent;\n",
              "      border-right-color: var(--fill-color);\n",
              "    }\n",
              "    80% {\n",
              "      border-color: transparent;\n",
              "      border-right-color: var(--fill-color);\n",
              "      border-bottom-color: var(--fill-color);\n",
              "    }\n",
              "    90% {\n",
              "      border-color: transparent;\n",
              "      border-bottom-color: var(--fill-color);\n",
              "    }\n",
              "  }\n",
              "</style>\n",
              "\n",
              "  <script>\n",
              "    async function quickchart(key) {\n",
              "      const quickchartButtonEl =\n",
              "        document.querySelector('#' + key + ' button');\n",
              "      quickchartButtonEl.disabled = true;  // To prevent multiple clicks.\n",
              "      quickchartButtonEl.classList.add('colab-df-spinner');\n",
              "      try {\n",
              "        const charts = await google.colab.kernel.invokeFunction(\n",
              "            'suggestCharts', [key], {});\n",
              "      } catch (error) {\n",
              "        console.error('Error during call to suggestCharts:', error);\n",
              "      }\n",
              "      quickchartButtonEl.classList.remove('colab-df-spinner');\n",
              "      quickchartButtonEl.classList.add('colab-df-quickchart-complete');\n",
              "    }\n",
              "    (() => {\n",
              "      let quickchartButtonEl =\n",
              "        document.querySelector('#df-a82846fd-319b-46f1-9216-cf9b38e28378 button');\n",
              "      quickchartButtonEl.style.display =\n",
              "        google.colab.kernel.accessAllowed ? 'block' : 'none';\n",
              "    })();\n",
              "  </script>\n",
              "</div>\n",
              "\n",
              "    </div>\n",
              "  </div>\n"
            ],
            "application/vnd.google.colaboratory.intrinsic+json": {
              "type": "dataframe",
              "summary": "{\n  \"name\": \"df\",\n  \"rows\": 8,\n  \"fields\": [\n    {\n      \"column\": \"Date\",\n      \"properties\": {\n        \"dtype\": \"number\",\n        \"std\": 2230.588202815896,\n        \"min\": 1.0,\n        \"max\": 6324.0,\n        \"num_unique_values\": 8,\n        \"samples\": [\n          16.043327008222644,\n          16.0,\n          6324.0\n        ],\n        \"semantic_type\": \"\",\n        \"description\": \"\"\n      }\n    },\n    {\n      \"column\": \"CarCount\",\n      \"properties\": {\n        \"dtype\": \"number\",\n        \"std\": 2212.605127902,\n        \"min\": 5.0,\n        \"max\": 6324.0,\n        \"num_unique_values\": 8,\n        \"samples\": [\n          64.3556293485136,\n          61.0,\n          6324.0\n        ],\n        \"semantic_type\": \"\",\n        \"description\": \"\"\n      }\n    },\n    {\n      \"column\": \"BikeCount\",\n      \"properties\": {\n        \"dtype\": \"number\",\n        \"std\": 2229.6990294489124,\n        \"min\": 0.0,\n        \"max\": 6324.0,\n        \"num_unique_values\": 8,\n        \"samples\": [\n          12.013282732447818,\n          9.0,\n          6324.0\n        ],\n        \"semantic_type\": \"\",\n        \"description\": \"\"\n      }\n    },\n    {\n      \"column\": \"BusCount\",\n      \"properties\": {\n        \"dtype\": \"number\",\n        \"std\": 2230.578738618608,\n        \"min\": 0.0,\n        \"max\": 6324.0,\n        \"num_unique_values\": 8,\n        \"samples\": [\n          12.55787476280835,\n          10.0,\n          6324.0\n        ],\n        \"semantic_type\": \"\",\n        \"description\": \"\"\n      }\n    },\n    {\n      \"column\": \"TruckCount\",\n      \"properties\": {\n        \"dtype\": \"number\",\n        \"std\": 2228.6509340081143,\n        \"min\": 0.0,\n        \"max\": 6324.0,\n        \"num_unique_values\": 8,\n        \"samples\": [\n          18.658127767235925,\n          18.0,\n          6324.0\n        ],\n        \"semantic_type\": \"\",\n        \"description\": \"\"\n      }\n    },\n    {\n      \"column\": \"Total\",\n      \"properties\": {\n        \"dtype\": \"number\",\n        \"std\": 2198.401808755119,\n        \"min\": 21.0,\n        \"max\": 6324.0,\n        \"num_unique_values\": 8,\n        \"samples\": [\n          107.58491461100569,\n          103.0,\n          6324.0\n        ],\n        \"semantic_type\": \"\",\n        \"description\": \"\"\n      }\n    }\n  ]\n}"
            }
          },
          "metadata": {},
          "execution_count": 3
        }
      ],
      "source": [
        "df.describe()"
      ]
    },
    {
      "cell_type": "markdown",
      "source": [
        "### Distribution of the Target Variable"
      ],
      "metadata": {
        "id": "syGqq6xsywoS"
      },
      "id": "syGqq6xsywoS"
    },
    {
      "cell_type": "code",
      "source": [
        "# Visualizing the distribution\n",
        "\n",
        "df['Traffic Situation'].value_counts().plot(kind='bar', color=['skyblue', 'orange'])\n",
        "plt.title('Distribution of Traffic Situation')\n",
        "plt.xlabel('Traffic Situation')\n",
        "plt.ylabel('Count')\n",
        "plt.show()"
      ],
      "metadata": {
        "colab": {
          "base_uri": "https://localhost:8080/",
          "height": 506
        },
        "id": "zAaqL6qayuXK",
        "outputId": "55b9fa45-29fe-4abf-f72e-5d1338764c04"
      },
      "id": "zAaqL6qayuXK",
      "execution_count": 4,
      "outputs": [
        {
          "output_type": "display_data",
          "data": {
            "text/plain": [
              "<Figure size 640x480 with 1 Axes>"
            ],
            "image/png": "[encoded data removed]"
          },
          "metadata": {}
        }
      ]
    },
    {
      "cell_type": "markdown",
      "source": [
        "# Note:\n",
        "\n",
        "### there is an imbalance in the data. The \"normal\" traffic situation category has a significantly higher count compared to the other categories"
      ],
      "metadata": {
        "id": "HAyHbLb6zS35"
      },
      "id": "HAyHbLb6zS35"
    },
    {
      "cell_type": "markdown",
      "source": [
        "### Correlation Analysis"
      ],
      "metadata": {
        "id": "pxU2gpO1zmgA"
      },
      "id": "pxU2gpO1zmgA"
    },
    {
      "cell_type": "code",
      "source": [
        "# Correlation Matrix\n",
        "numeric_df = df.select_dtypes(include=['number'])\n",
        "Correlation_Matrix = numeric_df.corr()"
      ],
      "metadata": {
        "id": "DnOJLhevzoTh"
      },
      "id": "DnOJLhevzoTh",
      "execution_count": 5,
      "outputs": []
    },
    {
      "cell_type": "markdown",
      "id": "c0e69164",
      "metadata": {
        "id": "c0e69164"
      },
      "source": [
        "# Preprocess the data (if necessary)\n",
        "\n",
        "Before building models, it's crucial to preprocess the data to ensure it's clean and suitable for training. Follow these steps to prepare the dataset:\n",
        "\n",
        "1. **Check for Missing Values**: Determine if there are any missing values in the dataset and handle them appropriately. You can choose to fill them with a mean, median, or mode value, or drop rows with missing values if necessary.\n",
        "\n",
        "2. **Encode Categorical Variables**: Convert categorical variables into numerical representations. This can be done using techniques such as one-hot encoding and lable-encoder.\n",
        "\n",
        "3. **Feature Scaling**: Standardize or Normalize numerical features if needed to have a consistent scale.\n",
        "\n",
        "4. **Remove Unnecessary Columns**: Drop any columns that are not relevant for modeling."
      ]
    },
    {
      "cell_type": "markdown",
      "source": [
        "### 1. Check for missing values"
      ],
      "metadata": {
        "id": "AOcVTQqNz13z"
      },
      "id": "AOcVTQqNz13z"
    },
    {
      "cell_type": "code",
      "execution_count": 6,
      "id": "1c56d9ea",
      "metadata": {
        "id": "1c56d9ea",
        "colab": {
          "base_uri": "https://localhost:8080/",
          "height": 366
        },
        "outputId": "ce0e27f1-37a1-4765-baa6-54acde1343f2"
      },
      "outputs": [
        {
          "output_type": "execute_result",
          "data": {
            "text/plain": [
              "Time                 0\n",
              "Date                 0\n",
              "Day of the week      0\n",
              "CarCount             0\n",
              "BikeCount            0\n",
              "BusCount             0\n",
              "TruckCount           0\n",
              "Total                0\n",
              "Traffic Situation    0\n",
              "dtype: int64"
            ],
            "text/html": [
              "<div>\n",
              "<style scoped>\n",
              "    .dataframe tbody tr th:only-of-type {\n",
              "        vertical-align: middle;\n",
              "    }\n",
              "\n",
              "    .dataframe tbody tr th {\n",
              "        vertical-align: top;\n",
              "    }\n",
              "\n",
              "    .dataframe thead th {\n",
              "        text-align: right;\n",
              "    }\n",
              "</style>\n",
              "<table border=\"1\" class=\"dataframe\">\n",
              "  <thead>\n",
              "    <tr style=\"text-align: right;\">\n",
              "      <th></th>\n",
              "      <th>0</th>\n",
              "    </tr>\n",
              "  </thead>\n",
              "  <tbody>\n",
              "    <tr>\n",
              "      <th>Time</th>\n",
              "      <td>0</td>\n",
              "    </tr>\n",
              "    <tr>\n",
              "      <th>Date</th>\n",
              "      <td>0</td>\n",
              "    </tr>\n",
              "    <tr>\n",
              "      <th>Day of the week</th>\n",
              "      <td>0</td>\n",
              "    </tr>\n",
              "    <tr>\n",
              "      <th>CarCount</th>\n",
              "      <td>0</td>\n",
              "    </tr>\n",
              "    <tr>\n",
              "      <th>BikeCount</th>\n",
              "      <td>0</td>\n",
              "    </tr>\n",
              "    <tr>\n",
              "      <th>BusCount</th>\n",
              "      <td>0</td>\n",
              "    </tr>\n",
              "    <tr>\n",
              "      <th>TruckCount</th>\n",
              "      <td>0</td>\n",
              "    </tr>\n",
              "    <tr>\n",
              "      <th>Total</th>\n",
              "      <td>0</td>\n",
              "    </tr>\n",
              "    <tr>\n",
              "      <th>Traffic Situation</th>\n",
              "      <td>0</td>\n",
              "    </tr>\n",
              "  </tbody>\n",
              "</table>\n",
              "</div><br><label><b>dtype:</b> int64</label>"
            ]
          },
          "metadata": {},
          "execution_count": 6
        }
      ],
      "source": [
        "df.isnull().sum()"
      ]
    },
    {
      "cell_type": "markdown",
      "source": [
        "###  2. Encode Categorical Variable\n",
        "**will do it after splitting the dataset**\n",
        "\n",
        "###  3.Feature Scaling\n",
        "**will do it after splitting the dataset**"
      ],
      "metadata": {
        "id": "2cvjgtka2Oqy"
      },
      "id": "2cvjgtka2Oqy"
    },
    {
      "cell_type": "markdown",
      "source": [
        "### Remove Unnecessary Columns\n",
        "\n",
        "**there is no unnecessary colums**"
      ],
      "metadata": {
        "id": "9dyqBJ8P0VVA"
      },
      "id": "9dyqBJ8P0VVA"
    },
    {
      "cell_type": "markdown",
      "id": "15d85221",
      "metadata": {
        "id": "15d85221"
      },
      "source": [
        "# Visualize the Data\n",
        "\n",
        "Visualizing the data helps in understanding the relationships between features and the target variable. Below are some common visualizations that can be used to gain insights into the dataset:\n",
        "\n",
        "1. **Count Plots for Categorical Features**: Use count plots to visualize the frequency of categorical features such as the `Traffic Situation`.\n",
        "\n",
        "2. **Correlation Heatmap**: Create a heatmap to visualize the correlation between numerical features and identify any strong relationships."
      ]
    },
    {
      "cell_type": "markdown",
      "source": [
        "### Count Plots for Categorical Features"
      ],
      "metadata": {
        "id": "hPevW5hI2j0R"
      },
      "id": "hPevW5hI2j0R"
    },
    {
      "cell_type": "code",
      "execution_count": 7,
      "id": "124f0bea",
      "metadata": {
        "id": "124f0bea",
        "colab": {
          "base_uri": "https://localhost:8080/",
          "height": 597
        },
        "outputId": "ac1c0d50-1765-483f-c433-7ea86a553a7b"
      },
      "outputs": [
        {
          "output_type": "stream",
          "name": "stderr",
          "text": [
            "<ipython-input-7-7350c2a09a93>:3: FutureWarning: \n",
            "\n",
            "Passing `palette` without assigning `hue` is deprecated and will be removed in v0.14.0. Assign the `x` variable to `hue` and set `legend=False` for the same effect.\n",
            "\n",
            "  sns.countplot(x='Traffic Situation', data=df, palette='Set1')\n"
          ]
        },
        {
          "output_type": "display_data",
          "data": {
            "text/plain": [
              "<Figure size 600x500 with 1 Axes>"
            ],
            "image/png": "[encoded data removed]"
          },
          "metadata": {}
        }
      ],
      "source": [
        "# Count plot for Traffic Situation\n",
        "plt.figure(figsize=(6, 5))\n",
        "sns.countplot(x='Traffic Situation', data=df, palette='Set1')\n",
        "plt.title('Count of Traffic Situation')\n",
        "plt.xlabel('Traffic Situation')\n",
        "plt.ylabel('Count')\n",
        "plt.show()"
      ]
    },
    {
      "cell_type": "markdown",
      "source": [
        "### There is an imbalance in the data. The \"normal\" traffic situation category has a significantly higher count compared to the other categories"
      ],
      "metadata": {
        "id": "7FmETh_J4YP-"
      },
      "id": "7FmETh_J4YP-"
    },
    {
      "cell_type": "code",
      "source": [
        "# Count plot for Traffic in days\n",
        "plt.figure(figsize=(8, 5))\n",
        "sns.countplot(x='Day of the week', data=df, palette='Set1')\n",
        "plt.title('Count of Traffic in days')\n",
        "plt.xlabel('Day of the week\t')\n",
        "plt.ylabel('Count')\n",
        "plt.show()"
      ],
      "metadata": {
        "colab": {
          "base_uri": "https://localhost:8080/",
          "height": 634
        },
        "id": "-qi6O4rz5YaS",
        "outputId": "4b068cd8-972d-498c-f55e-16d9ee3457a4"
      },
      "id": "-qi6O4rz5YaS",
      "execution_count": 8,
      "outputs": [
        {
          "output_type": "stream",
          "name": "stderr",
          "text": [
            "<ipython-input-8-90a72ad3fb46>:3: FutureWarning: \n",
            "\n",
            "Passing `palette` without assigning `hue` is deprecated and will be removed in v0.14.0. Assign the `x` variable to `hue` and set `legend=False` for the same effect.\n",
            "\n",
            "  sns.countplot(x='Day of the week', data=df, palette='Set1')\n",
            "/usr/local/lib/python3.10/dist-packages/IPython/core/pylabtools.py:151: UserWarning: Glyph 9 (\t) missing from current font.\n",
            "  fig.canvas.print_figure(bytes_io, **kw)\n"
          ]
        },
        {
          "output_type": "display_data",
          "data": {
            "text/plain": [
              "<Figure size 800x500 with 1 Axes>"
            ],
            "image/png": "[encoded data removed]"
          },
          "metadata": {}
        }
      ]
    },
    {
      "cell_type": "markdown",
      "source": [
        "### Traffic counts are consistent across the week with a slight dip on weekends."
      ],
      "metadata": {
        "id": "l794-myZ5s5w"
      },
      "id": "l794-myZ5s5w"
    },
    {
      "cell_type": "code",
      "source": [
        "# Identify outliers with boxplot\n",
        "plt.figure(figsize=(15, 5))\n",
        "sns.boxplot(df)\n",
        "plt.show()"
      ],
      "metadata": {
        "colab": {
          "base_uri": "https://localhost:8080/",
          "height": 368
        },
        "id": "dl3hRFhpFpcj",
        "outputId": "454fef1b-612f-41c1-baf0-0cc7ddde8c42"
      },
      "id": "dl3hRFhpFpcj",
      "execution_count": 9,
      "outputs": [
        {
          "output_type": "display_data",
          "data": {
            "text/plain": [
              "<Figure size 1500x500 with 1 Axes>"
            ],
            "image/png": "[encoded data removed]"
          },
          "metadata": {}
        }
      ]
    },
    {
      "cell_type": "markdown",
      "source": [
        "### based on the bot plot there are some outliers in the dataset"
      ],
      "metadata": {
        "id": "5tERw1XYG2tE"
      },
      "id": "5tERw1XYG2tE"
    },
    {
      "cell_type": "code",
      "source": [
        "# Function to remove outliers based on the IQR method\n",
        "\n",
        "def remove_outliers_iqr(df):\n",
        "\n",
        "    for col in df.select_dtypes(include=['float64', 'int64']).columns:\n",
        "        Q1 = df[col].quantile(0.25)\n",
        "        Q3 = df[col].quantile(0.75)\n",
        "        IQR = Q3 - Q1\n",
        "\n",
        "        lower_bound = Q1 - 1.5 * IQR\n",
        "        upper_bound = Q3 + 1.5 * IQR\n",
        "\n",
        "        df = df[(df[col] >= lower_bound) & (df[col] <= upper_bound)]\n",
        "\n",
        "    return df\n",
        "\n",
        "\n",
        "# Remove outliers\n",
        "df_no_outliers = remove_outliers_iqr(df)"
      ],
      "metadata": {
        "id": "oOUCXDcSHC6K"
      },
      "id": "oOUCXDcSHC6K",
      "execution_count": 10,
      "outputs": []
    },
    {
      "cell_type": "code",
      "source": [
        "# if outliers were removed by plotting again\n",
        "plt.figure(figsize=(15,8))\n",
        "sns.boxplot(data=df_no_outliers)\n",
        "plt.xticks(rotation=90)\n",
        "plt.show()\n"
      ],
      "metadata": {
        "colab": {
          "base_uri": "https://localhost:8080/",
          "height": 610
        },
        "id": "VF9qGKXqHGob",
        "outputId": "7b51bd75-837e-45cc-cf7f-fe3a3b802ab1"
      },
      "id": "VF9qGKXqHGob",
      "execution_count": 11,
      "outputs": [
        {
          "output_type": "display_data",
          "data": {
            "text/plain": [
              "<Figure size 1500x800 with 1 Axes>"
            ],
            "image/png": "[encoded data removed]"
          },
          "metadata": {}
        }
      ]
    },
    {
      "cell_type": "markdown",
      "source": [
        "### Correlation Heatmap"
      ],
      "metadata": {
        "id": "9mFWxLs44MjE"
      },
      "id": "9mFWxLs44MjE"
    },
    {
      "cell_type": "code",
      "source": [
        "# Visualize it with Heatmap\n",
        "sns.heatmap(Correlation_Matrix, annot=True, fmt=\".2f\", cmap='coolwarm', vmin=-1, vmax=1)\n",
        "plt.title('Correlation Matrix')\n",
        "plt.show()"
      ],
      "metadata": {
        "colab": {
          "base_uri": "https://localhost:8080/",
          "height": 516
        },
        "id": "ElPwtGa808Ty",
        "outputId": "09689ca7-761f-4967-9360-869707bfd85b"
      },
      "id": "ElPwtGa808Ty",
      "execution_count": 12,
      "outputs": [
        {
          "output_type": "display_data",
          "data": {
            "text/plain": [
              "<Figure size 640x480 with 2 Axes>"
            ],
            "image/png": "[encoded data removed]"
          },
          "metadata": {}
        }
      ]
    },
    {
      "cell_type": "markdown",
      "source": [
        "###  the strongest relationships appear to be between CarCount and Total"
      ],
      "metadata": {
        "id": "X3_p7y9o1wZ4"
      },
      "id": "X3_p7y9o1wZ4"
    },
    {
      "cell_type": "markdown",
      "id": "2104eb8e",
      "metadata": {
        "id": "2104eb8e"
      },
      "source": [
        "# Split the Dataset\n",
        "\n",
        "1. **Define Features and Target**: Separate the dataset into features (`X`) and the target variable (`y`).\n",
        "\n",
        "2. **Train-Test Split**: Use the `train_test_split` function from `sklearn.model_selection` to split the data."
      ]
    },
    {
      "cell_type": "markdown",
      "source": [
        "### Define Features and Targe"
      ],
      "metadata": {
        "id": "PpZ9x0Xt6UfI"
      },
      "id": "PpZ9x0Xt6UfI"
    },
    {
      "cell_type": "code",
      "execution_count": 13,
      "id": "f3a3d4e9",
      "metadata": {
        "id": "f3a3d4e9"
      },
      "outputs": [],
      "source": [
        "X = df_no_outliers.drop(columns = 'Traffic Situation', axis = 1)\n",
        "y = df_no_outliers['Traffic Situation']"
      ]
    },
    {
      "cell_type": "markdown",
      "source": [
        "### Convert 'Time' column to seconds since midnight"
      ],
      "metadata": {
        "id": "SuELVQOj9ujF"
      },
      "id": "SuELVQOj9ujF"
    },
    {
      "cell_type": "code",
      "source": [
        "def convert_time_to_seconds(df_no_outliers, time_column):\n",
        "    df_no_outliers[time_column] = pd.to_datetime(df_no_outliers[time_column]).dt.hour * 3600 + \\\n",
        "                      pd.to_datetime(df_no_outliers[time_column]).dt.minute * 60 + \\\n",
        "                      pd.to_datetime(df_no_outliers[time_column]).dt.second\n",
        "    return df_no_outliers"
      ],
      "metadata": {
        "id": "HJYKHIlz-E3c"
      },
      "id": "HJYKHIlz-E3c",
      "execution_count": 14,
      "outputs": []
    },
    {
      "cell_type": "code",
      "source": [
        "X = convert_time_to_seconds(X, 'Time')"
      ],
      "metadata": {
        "colab": {
          "base_uri": "https://localhost:8080/"
        },
        "id": "nX9D3wIr9t66",
        "outputId": "9635087f-5e56-4a29-ef76-5e232a076ec8"
      },
      "id": "nX9D3wIr9t66",
      "execution_count": 15,
      "outputs": [
        {
          "output_type": "stream",
          "name": "stderr",
          "text": [
            "<ipython-input-14-56e2f571d8fb>:2: UserWarning: Could not infer format, so each element will be parsed individually, falling back to `dateutil`. To ensure parsing is consistent and as-expected, please specify a format.\n",
            "  df_no_outliers[time_column] = pd.to_datetime(df_no_outliers[time_column]).dt.hour * 3600 + \\\n",
            "<ipython-input-14-56e2f571d8fb>:3: UserWarning: Could not infer format, so each element will be parsed individually, falling back to `dateutil`. To ensure parsing is consistent and as-expected, please specify a format.\n",
            "  pd.to_datetime(df_no_outliers[time_column]).dt.minute * 60 + \\\n",
            "<ipython-input-14-56e2f571d8fb>:4: UserWarning: Could not infer format, so each element will be parsed individually, falling back to `dateutil`. To ensure parsing is consistent and as-expected, please specify a format.\n",
            "  pd.to_datetime(df_no_outliers[time_column]).dt.second\n"
          ]
        }
      ]
    },
    {
      "cell_type": "markdown",
      "source": [
        "### Encode Categorical Variable"
      ],
      "metadata": {
        "id": "aZHUSP9E9e7a"
      },
      "id": "aZHUSP9E9e7a"
    },
    {
      "cell_type": "code",
      "source": [
        "from sklearn.preprocessing import LabelEncoder"
      ],
      "metadata": {
        "id": "HYbrF0Zc9gMZ"
      },
      "id": "HYbrF0Zc9gMZ",
      "execution_count": 16,
      "outputs": []
    },
    {
      "cell_type": "code",
      "source": [
        "def encode_categorical(df_no_outliers, categorical_columns):\n",
        "    label_encoders = {}\n",
        "    for column in categorical_columns:\n",
        "        le = LabelEncoder()\n",
        "        df_no_outliers[column] = le.fit_transform(df_no_outliers[column])\n",
        "        label_encoders[column] = le\n",
        "    return df_no_outliers, label_encoders"
      ],
      "metadata": {
        "id": "-0nGWU_t-RIW"
      },
      "id": "-0nGWU_t-RIW",
      "execution_count": 17,
      "outputs": []
    },
    {
      "cell_type": "code",
      "source": [
        "# Step 3: Encode categorical variables\n",
        "categorical_columns = ['Day of the week']\n",
        "X, label_encoders = encode_categorical(X, categorical_columns)"
      ],
      "metadata": {
        "id": "hYzhAte29jhz"
      },
      "id": "hYzhAte29jhz",
      "execution_count": 18,
      "outputs": []
    },
    {
      "cell_type": "markdown",
      "source": [
        "### Feature Scaling"
      ],
      "metadata": {
        "id": "pK0osIvxcPCj"
      },
      "id": "pK0osIvxcPCj"
    },
    {
      "cell_type": "code",
      "source": [
        "from sklearn.preprocessing import StandardScaler\n",
        "scaler = StandardScaler()\n",
        "X_scaled = scaler.fit_transform(X)\n",
        "\n",
        "X_scaled_df = pd.DataFrame(X_scaled, columns=X.columns)"
      ],
      "metadata": {
        "id": "IAy6FFDGcf-E"
      },
      "id": "IAy6FFDGcf-E",
      "execution_count": 19,
      "outputs": []
    },
    {
      "cell_type": "markdown",
      "source": [
        "### Train-Test Split"
      ],
      "metadata": {
        "id": "bD8lR5AH6WVJ"
      },
      "id": "bD8lR5AH6WVJ"
    },
    {
      "cell_type": "code",
      "source": [
        "from sklearn.model_selection import train_test_split\n",
        "\n",
        "X_train, X_test, y_train, y_test = train_test_split(X_scaled_df , y , test_size = 0.2 , random_state=42)"
      ],
      "metadata": {
        "id": "d_sKag5D6bXm"
      },
      "id": "d_sKag5D6bXm",
      "execution_count": 20,
      "outputs": []
    },
    {
      "cell_type": "markdown",
      "id": "bdcb9a0a",
      "metadata": {
        "id": "bdcb9a0a"
      },
      "source": [
        "# Initialize and Train the Classifiers"
      ]
    },
    {
      "cell_type": "markdown",
      "id": "ea773220",
      "metadata": {
        "id": "ea773220"
      },
      "source": [
        "## Bagging\n",
        "Chose the bagging model to go with and initialize and train a the model."
      ]
    },
    {
      "cell_type": "markdown",
      "source": [
        "import necessary libraries"
      ],
      "metadata": {
        "id": "7gr04XGs7ek6"
      },
      "id": "7gr04XGs7ek6"
    },
    {
      "cell_type": "code",
      "execution_count": 21,
      "id": "3e29fd42",
      "metadata": {
        "id": "3e29fd42"
      },
      "outputs": [],
      "source": [
        "from sklearn.ensemble import RandomForestClassifier"
      ]
    },
    {
      "cell_type": "code",
      "source": [
        "random_forest_classifier = RandomForestClassifier(n_estimators=50, random_state=42)\n",
        "\n",
        "random_forest_classifier.fit(X_train, y_train)\n",
        "\n",
        "predictions = random_forest_classifier.predict(X_test)"
      ],
      "metadata": {
        "id": "vi3btdEN7ril"
      },
      "id": "vi3btdEN7ril",
      "execution_count": 22,
      "outputs": []
    },
    {
      "cell_type": "markdown",
      "id": "fb3a2438",
      "metadata": {
        "id": "fb3a2438"
      },
      "source": [
        "### Evaluate the model performance"
      ]
    },
    {
      "cell_type": "code",
      "execution_count": 23,
      "id": "38d965b4",
      "metadata": {
        "id": "38d965b4"
      },
      "outputs": [],
      "source": [
        "from sklearn.metrics import accuracy_score"
      ]
    },
    {
      "cell_type": "code",
      "source": [
        "# Evaluate the model's accuracy\n",
        "accuracy = accuracy_score(y_test, predictions)\n",
        "print(f'Random Forest Model Accuracy: {accuracy * 100:.2f}%')"
      ],
      "metadata": {
        "colab": {
          "base_uri": "https://localhost:8080/"
        },
        "id": "vcwkYdYm7z0M",
        "outputId": "81742ba8-13a9-4c02-a1c9-6277a584ebc6"
      },
      "id": "vcwkYdYm7z0M",
      "execution_count": 24,
      "outputs": [
        {
          "output_type": "stream",
          "name": "stdout",
          "text": [
            "Random Forest Model Accuracy: 88.61%\n"
          ]
        }
      ]
    },
    {
      "cell_type": "markdown",
      "id": "1790e79e",
      "metadata": {
        "id": "1790e79e"
      },
      "source": [
        "## Boosting\n",
        "Chose the Boosting model to go with and initialize and train a the model."
      ]
    },
    {
      "cell_type": "markdown",
      "source": [
        "#Train-Test Split"
      ],
      "metadata": {
        "id": "TR0oJ-iV_aCW"
      },
      "id": "TR0oJ-iV_aCW"
    },
    {
      "cell_type": "code",
      "source": [
        "# Encode the target variable y\n",
        "label_encoder = LabelEncoder()\n",
        "y = label_encoder.fit_transform(y)"
      ],
      "metadata": {
        "id": "QadSEmW4_vmv"
      },
      "id": "QadSEmW4_vmv",
      "execution_count": 25,
      "outputs": []
    },
    {
      "cell_type": "code",
      "source": [
        "from sklearn.model_selection import train_test_split\n",
        "\n",
        "X_train, X_test, y_train, y_test = train_test_split(X_scaled_df , y , test_size = 0.2 , random_state=42)"
      ],
      "metadata": {
        "id": "tHD6bgQkhOkP"
      },
      "id": "tHD6bgQkhOkP",
      "execution_count": 28,
      "outputs": []
    },
    {
      "cell_type": "markdown",
      "source": [
        "import necessary libraries"
      ],
      "metadata": {
        "id": "MFAXinAR_HGi"
      },
      "id": "MFAXinAR_HGi"
    },
    {
      "cell_type": "code",
      "execution_count": 29,
      "id": "bd8ef061",
      "metadata": {
        "id": "bd8ef061"
      },
      "outputs": [],
      "source": [
        "from xgboost import XGBClassifier"
      ]
    },
    {
      "cell_type": "code",
      "source": [
        "xgb_classifier = XGBClassifier(n_estimators=50, random_state=42)\n",
        "xgb_classifier.fit(X_train, y_train)\n",
        "\n",
        "predictions = xgb_classifier.predict(X_test)"
      ],
      "metadata": {
        "id": "fzJA9B6m_L1r"
      },
      "id": "fzJA9B6m_L1r",
      "execution_count": 30,
      "outputs": []
    },
    {
      "cell_type": "markdown",
      "id": "6646ab65",
      "metadata": {
        "id": "6646ab65"
      },
      "source": [
        "### Evaluate the model performance"
      ]
    },
    {
      "cell_type": "code",
      "execution_count": 31,
      "id": "d9915c9c",
      "metadata": {
        "id": "d9915c9c",
        "colab": {
          "base_uri": "https://localhost:8080/"
        },
        "outputId": "efa42d59-619c-452e-b979-7c89741dfcbc"
      },
      "outputs": [
        {
          "output_type": "stream",
          "name": "stdout",
          "text": [
            "XGBoost Classifier Model Accuracy: 89.02%\n"
          ]
        }
      ],
      "source": [
        "# Evaluate the model's accuracy\n",
        "accuracy = accuracy_score(y_test, predictions)\n",
        "print(f'XGBoost Classifier Model Accuracy: {accuracy * 100:.2f}%')"
      ]
    },
    {
      "cell_type": "markdown",
      "id": "fc2255c5",
      "metadata": {
        "id": "fc2255c5"
      },
      "source": [
        "## Stacking Classifier\n",
        "Combine the previous classifiers as the base models using a Stacking Classifier."
      ]
    },
    {
      "cell_type": "markdown",
      "source": [
        "### Import the libraries"
      ],
      "metadata": {
        "id": "6-pdr1NHAM39"
      },
      "id": "6-pdr1NHAM39"
    },
    {
      "cell_type": "code",
      "execution_count": 32,
      "id": "23b6f377",
      "metadata": {
        "id": "23b6f377"
      },
      "outputs": [],
      "source": [
        "from sklearn.ensemble import StackingClassifier\n",
        "from sklearn.linear_model import LogisticRegression\n",
        "from sklearn.tree import DecisionTreeClassifier\n",
        "from sklearn.svm import SVC\n",
        "from sklearn.neighbors import KNeighborsClassifier"
      ]
    },
    {
      "cell_type": "markdown",
      "id": "cb295dff",
      "metadata": {
        "id": "cb295dff"
      },
      "source": [
        "### Define meta-learner (LogisticRegression)"
      ]
    },
    {
      "cell_type": "code",
      "execution_count": 33,
      "id": "7b4eb2a7",
      "metadata": {
        "id": "7b4eb2a7"
      },
      "outputs": [],
      "source": [
        "base_models = [\n",
        "    ('decision_tree', DecisionTreeClassifier(random_state=42)),\n",
        "    ('svc', SVC(probability=True, random_state=42)),\n",
        "    ('knn', KNeighborsClassifier()),\n",
        "    ('random_forest', RandomForestClassifier(random_state=42))\n",
        "]\n",
        "\n",
        "# the meta-model\n",
        "meta_model = LogisticRegression()"
      ]
    },
    {
      "cell_type": "markdown",
      "id": "0f74e88d",
      "metadata": {
        "id": "0f74e88d"
      },
      "source": [
        "### Initialize and Train the Stacking Classifier\n",
        "\n",
        "Stacking combines multiple models (base learners) using a meta-learner. The meta-learner is trained on the predictions of the base learners to make the final prediction."
      ]
    },
    {
      "cell_type": "code",
      "execution_count": 34,
      "id": "c53f148a",
      "metadata": {
        "id": "c53f148a",
        "colab": {
          "base_uri": "https://localhost:8080/"
        },
        "outputId": "b2f2682f-12dd-43c7-e6b0-6c219bda410f"
      },
      "outputs": [
        {
          "output_type": "stream",
          "name": "stderr",
          "text": [
            "/usr/local/lib/python3.10/dist-packages/sklearn/linear_model/_logistic.py:460: ConvergenceWarning: lbfgs failed to converge (status=1):\n",
            "STOP: TOTAL NO. of ITERATIONS REACHED LIMIT.\n",
            "\n",
            "Increase the number of iterations (max_iter) or scale the data as shown in:\n",
            "    https://scikit-learn.org/stable/modules/preprocessing.html\n",
            "Please also refer to the documentation for alternative solver options:\n",
            "    https://scikit-learn.org/stable/modules/linear_model.html#logistic-regression\n",
            "  n_iter_i = _check_optimize_result(\n"
          ]
        }
      ],
      "source": [
        "stacking_classifier = StackingClassifier(estimators=base_models, final_estimator=meta_model, cv=5)\n",
        "\n",
        "stacking_classifier.fit(X_train, y_train)\n",
        "\n",
        "predictions = stacking_classifier.predict(X_test)"
      ]
    },
    {
      "cell_type": "markdown",
      "id": "d24a1137",
      "metadata": {
        "id": "d24a1137"
      },
      "source": [
        "### Evaluate the model performance"
      ]
    },
    {
      "cell_type": "code",
      "execution_count": 35,
      "id": "4cd40cf6",
      "metadata": {
        "id": "4cd40cf6",
        "colab": {
          "base_uri": "https://localhost:8080/"
        },
        "outputId": "3df84c46-eedc-47af-d598-c38593c33fbe"
      },
      "outputs": [
        {
          "output_type": "stream",
          "name": "stdout",
          "text": [
            "Stacking Classifier Model Accuracy: 89.83%\n"
          ]
        }
      ],
      "source": [
        "# Evaluate the model's accuracy\n",
        "accuracy = accuracy_score(y_test, predictions)\n",
        "print(f'Stacking Classifier Model Accuracy: {accuracy * 100:.2f}%')"
      ]
    },
    {
      "cell_type": "markdown",
      "id": "4129f6a0",
      "metadata": {
        "id": "4129f6a0"
      },
      "source": [
        "# Notebook Questions:\n",
        "\n",
        "After completing the tasks in this notebook, take some time to reflect on the work you have done and answer the following questions. These questions are designed to help you think critically about the steps you took and the decisions you made.\n",
        "\n",
        "* **Feature Selection and Engineering**\n",
        "   - Which features did you find most important for predicting churn, and why do you think they are significant?\n",
        "   - Did you perform any feature engineering? If so, what new features did you create, and how did they improve the model performance?\n",
        "\n",
        "* **Model Selection**\n",
        "   - Why did you choose the specific ensemble methods you implemented? What are the advantages of using ensemble methods over single models?\n",
        "   - Compare the performance of different models you used. Which model performed the best, and what do you think contributed to its success?\n",
        "\n",
        "* **Model Evaluation**\n",
        "   - Which evaluation metrics did you use to assess the model performance, and why? What insights did these metrics provide about the models' strengths and weaknesses?\n"
      ]
    },
    {
      "cell_type": "markdown",
      "id": "5a4dd465",
      "metadata": {
        "id": "5a4dd465"
      },
      "source": [
        "# Answer here:"
      ]
    },
    {
      "cell_type": "markdown",
      "id": "e3f6bf58",
      "metadata": {
        "id": "e3f6bf58"
      },
      "source": [
        "The traffic situation was the most significant factor influencing the outcomes. However, I hadn't performed any feature engineering, because there was a good relationship between the variables.\n",
        "\n",
        "I decided to use ensemble methods like Bagging with Random Forest, Boosting with XGBoost, and Stacking, which combined Decision Tree, SVC, KNN, and Random Forest models.\n",
        "\n",
        "The Stacking model stood out with an accuracy of 89.83%, making it the best performer. XGBoost followed closely with 89.02%, and Random Forest achieved 88.61%. I used accuracy as the primary metric to evaluate the models, as it provided a clear understanding of how effectively each model predicted the traffic situation."
      ]
    }
  ],
  "metadata": {
    "colab": {
      "provenance": [],
      "include_colab_link": true
    },
    "language_info": {
      "name": "python"
    },
    "kernelspec": {
      "name": "python3",
      "display_name": "Python 3"
    }
  },
  "nbformat": 4,
  "nbformat_minor": 5
}